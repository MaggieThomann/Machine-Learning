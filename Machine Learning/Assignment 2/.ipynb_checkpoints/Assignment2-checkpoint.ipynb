{
 "cells": [
  {
   "cell_type": "markdown",
   "metadata": {
    "collapsed": true,
    "deletable": true,
    "editable": true
   },
   "source": [
    "# Assignment 2:  Naive Bayes Algorithm and Tic Tac Toe\n",
    "*Margaret Thomann - February 9, 2018 *\n",
    "\n",
    "In this assignment, I will implement the Naive Bayes Algorithm on the provided Tic Tac Toe data set.  Predicted probabilities will then be found for the test data set."
   ]
  },
  {
   "cell_type": "markdown",
   "metadata": {
    "deletable": true,
    "editable": true
   },
   "source": [
    "### Calculating Class Conditional Probability Table"
   ]
  },
  {
   "cell_type": "markdown",
   "metadata": {
    "deletable": true,
    "editable": true
   },
   "source": [
    "#### Cell Class \n",
    "Will be used to contain the values for each of the positive and negative class counts"
   ]
  },
  {
   "cell_type": "code",
   "execution_count": 1,
   "metadata": {
    "collapsed": true,
    "deletable": true,
    "editable": true
   },
   "outputs": [],
   "source": [
    "class Cell:\n",
    "    def __init__(self, type):\n",
    "        self.type = type\n",
    "        self.x_positive = 0\n",
    "        self.o_positive = 0\n",
    "        self.b_positive = 0\n",
    "        self.x_negative = 0\n",
    "        self.o_negative = 0\n",
    "        self.b_negative = 0"
   ]
  },
  {
   "cell_type": "markdown",
   "metadata": {
    "deletable": true,
    "editable": true
   },
   "source": [
    "#### Reading in the data from the text file, performing and printing the counts\n",
    "The data will be read in from the file and values will be assigned to the appropriate classes."
   ]
  },
  {
   "cell_type": "code",
   "execution_count": 48,
   "metadata": {
    "collapsed": false,
    "deletable": true,
    "editable": true
   },
   "outputs": [
    {
     "name": "stdout",
     "output_type": "stream",
     "text": [
      "---------------------------\n",
      "| DATA PROCESSING RESULTS |\n",
      "---------------------------\n",
      "\n",
      "----Win Counts----\n",
      "x won:   615 times\n",
      "x lost:  321 times\n",
      "\n",
      "----Cell Counts---\n",
      "TL\n",
      "   |    P    |    N    |\n",
      "------------------------\n",
      "X  |   284   |   120   |\n",
      "O  |   189   |   141   |\n",
      "B  |   142   |   60    |\n",
      "------------------------\n",
      "X  | 284/615 | 120/321 |\n",
      "O  | 189/615 | 141/321 |\n",
      "B  | 142/615 | 60 /321 |\n",
      "_____________________\n",
      "\n",
      "TM\n",
      "   |    P    |    N    |\n",
      "------------------------\n",
      "X  |   214   |   146   |\n",
      "O  |   229   |   100   |\n",
      "B  |   172   |   75    |\n",
      "------------------------\n",
      "X  | 214/615 | 146/321 |\n",
      "O  | 229/615 | 100/321 |\n",
      "B  | 172/615 | 75 /321 |\n",
      "_____________________\n",
      "\n",
      "TR\n",
      "   |    P    |    N    |\n",
      "------------------------\n",
      "X  |   284   |   121   |\n",
      "O  |   189   |   137   |\n",
      "B  |   142   |   63    |\n",
      "------------------------\n",
      "X  | 284/615 | 121/321 |\n",
      "O  | 189/615 | 137/321 |\n",
      "B  | 142/615 | 63 /321 |\n",
      "_____________________\n",
      "\n",
      "ML\n",
      "   |    P    |    N    |\n",
      "------------------------\n",
      "X  |   219   |   148   |\n",
      "O  |   229   |   97    |\n",
      "B  |   167   |   76    |\n",
      "------------------------\n",
      "X  | 219/615 | 148/321 |\n",
      "O  | 229/615 | 97 /321 |\n",
      "B  | 167/615 | 76 /321 |\n",
      "_____________________\n",
      "\n",
      "MM\n",
      "   |    P    |    N    |\n",
      "------------------------\n",
      "X  |   366   |   87    |\n",
      "O  |   138   |   187   |\n",
      "B  |   111   |   47    |\n",
      "------------------------\n",
      "X  | 366/615 | 87 /321 |\n",
      "O  | 138/615 | 187/321 |\n",
      "B  | 111/615 | 47 /321 |\n",
      "_____________________\n",
      "\n",
      "MR\n",
      "   |    P    |    N    |\n",
      "------------------------\n",
      "X  |   222   |   147   |\n",
      "O  |   224   |   96    |\n",
      "B  |   169   |   78    |\n",
      "------------------------\n",
      "X  | 222/615 | 147/321 |\n",
      "O  | 224/615 | 96 /321 |\n",
      "B  | 169/615 | 78 /321 |\n",
      "_____________________\n",
      "\n",
      "BL\n",
      "   |    P    |    N    |\n",
      "------------------------\n",
      "X  |   293   |   115   |\n",
      "O  |   184   |   143   |\n",
      "B  |   138   |   63    |\n",
      "------------------------\n",
      "X  | 293/615 | 115/321 |\n",
      "O  | 184/615 | 143/321 |\n",
      "B  | 138/615 | 63 /321 |\n",
      "_____________________\n",
      "\n",
      "BM\n",
      "   |    P    |    N    |\n",
      "------------------------\n",
      "X  |   225   |   147   |\n",
      "O  |   222   |   96    |\n",
      "B  |   168   |   78    |\n",
      "------------------------\n",
      "X  | 225/615 | 147/321 |\n",
      "O  | 222/615 | 96 /321 |\n",
      "B  | 168/615 | 78 /321 |\n",
      "_____________________\n",
      "\n",
      "BR\n",
      "   |    P    |    N    |\n",
      "------------------------\n",
      "X  |   295   |   116   |\n",
      "O  |   183   |   142   |\n",
      "B  |   137   |   63    |\n",
      "------------------------\n",
      "X  | 295/615 | 116/321 |\n",
      "O  | 183/615 | 142/321 |\n",
      "B  | 137/615 | 63 /321 |\n",
      "_____________________\n",
      "\n"
     ]
    }
   ],
   "source": [
    "features = [\"TL\", \"TM\", \"TR\",\n",
    "           \"ML\", \"MM\", \"MR\",\n",
    "           \"BL\", \"BM\", \"BR\"]\n",
    "feature_values = [\"x\", \"o\", \"b\"]\n",
    "positive_win_count = 0\n",
    "negative_win_count = 0\n",
    "board = []\n",
    "\n",
    "for feature in features:\n",
    "    board.append(Cell(feature))\n",
    "    \n",
    "training_file = open('tic-tac-toe.data.txt')\n",
    "for line in training_file.readlines():\n",
    "    state_list = line.split()\n",
    "    win_class = state_list[-1]\n",
    "    if win_class == \"positive\":\n",
    "        positive_win_count += 1\n",
    "    else:\n",
    "        negative_win_count += 1\n",
    "    for i in range(9):\n",
    "        if win_class == \"positive\":\n",
    "            if state_list[i] == \"x\":\n",
    "                board[i].x_positive += 1\n",
    "            elif state_list[i] == \"o\":\n",
    "                board[i].o_positive += 1\n",
    "            elif state_list[i] == \"b\":\n",
    "                board[i].b_positive += 1\n",
    "        elif win_class == \"negative\":\n",
    "            if state_list[i] == \"x\":\n",
    "                board[i].x_negative += 1\n",
    "            elif state_list[i] == \"o\":\n",
    "                board[i].o_negative += 1\n",
    "            elif state_list[i] == \"b\":\n",
    "                board[i].b_negative += 1\n",
    "print \"---------------------------\"\n",
    "print \"| DATA PROCESSING RESULTS |\"         \n",
    "print \"---------------------------\\n\"\n",
    "print \"----Win Counts----\"\n",
    "print \"x won:   {:^3d} times\".format(positive_win_count)\n",
    "print \"x lost:  {:^3d} times\".format(negative_win_count)\n",
    "print \"\\n----Cell Counts---\"\n",
    "for feature in board:\n",
    "    print feature.type\n",
    "    print \"   |    P    |    N    |\"\n",
    "    print \"------------------------\"\n",
    "    print \"X  | {:^7d} | {:^7d} |\".format(feature.x_positive, feature.x_negative)\n",
    "    print \"O  | {:^7d} | {:^7d} |\".format(feature.o_positive, feature.o_negative)\n",
    "    print \"B  | {:^7d} | {:^7d} |\".format(feature.b_positive, feature.b_negative)\n",
    "    print \"------------------------\"\n",
    "    print \"X  | {:^3d}/{:^3d} | {:^3d}/{:^3d} |\".format(feature.x_positive, positive_win_count, feature.x_negative, negative_win_count)\n",
    "    print \"O  | {:^3d}/{:^3d} | {:^3d}/{:^3d} |\".format(feature.o_positive, positive_win_count, feature.o_negative, negative_win_count)\n",
    "    print \"B  | {:^3d}/{:^3d} | {:^3d}/{:^3d} |\".format(feature.b_positive, positive_win_count, feature.b_negative, negative_win_count)\n",
    "    print \"_____________________\\n\"\n",
    "    "
   ]
  },
  {
   "cell_type": "markdown",
   "metadata": {},
   "source": [
    "### Resulting Class Conditional Probability Table"
   ]
  },
  {
   "cell_type": "code",
   "execution_count": null,
   "metadata": {
    "collapsed": true
   },
   "outputs": [],
   "source": []
  },
  {
   "cell_type": "markdown",
   "metadata": {
    "collapsed": true,
    "deletable": true,
    "editable": true
   },
   "source": [
    "### Predicted Probabilities on the Test Set Data"
   ]
  },
  {
   "cell_type": "code",
   "execution_count": null,
   "metadata": {
    "collapsed": true,
    "deletable": true,
    "editable": true
   },
   "outputs": [],
   "source": []
  }
 ],
 "metadata": {
  "kernelspec": {
   "display_name": "Python 2",
   "language": "python",
   "name": "python2"
  },
  "language_info": {
   "codemirror_mode": {
    "name": "ipython",
    "version": 2
   },
   "file_extension": ".py",
   "mimetype": "text/x-python",
   "name": "python",
   "nbconvert_exporter": "python",
   "pygments_lexer": "ipython2",
   "version": "2.7.13"
  }
 },
 "nbformat": 4,
 "nbformat_minor": 2
}
